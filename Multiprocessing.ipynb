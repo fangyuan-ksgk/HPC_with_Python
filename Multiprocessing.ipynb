{
 "cells": [
  {
   "cell_type": "markdown",
   "metadata": {},
   "source": [
    "# Multiprocessing"
   ]
  },
  {
   "cell_type": "markdown",
   "metadata": {},
   "source": [
    "A way to introduce paralellism and relase GIL to utilize the multicore microarchitecture, Multiprocessing is a useful python packages."
   ]
  },
  {
   "cell_type": "markdown",
   "metadata": {},
   "source": [
    "### Process\n",
    "- A process is a self contained unit of execution of a program with its own memory address space and segment of available resources allocated to it (cores, registers, heap space etc). \n",
    "- Since two processes don't share the memory address space, the need a means to communicate.\n",
    "- Processes are not lightweight for OS to manage, i.e. their creation and destruction. Therefore they are usually initialized and destroyed once in the lifetime of a programm.\n",
    "- Think of parallelism with processes are 4 chefs making the same recipe of soup in 4 seperate kitchens. In term of the computer program, this means 4 instances of the same program."
   ]
  },
  {
   "cell_type": "markdown",
   "metadata": {},
   "source": [
    "### Thread\n",
    "- A thread is a unit of execution within a process.\n",
    "- A process can spwan many threads.\n",
    "- When a process starts, it is assigned its registers, cores, heap and memory space for code. A thread of a process, when started, is assigned a subset of registers, core to run on. Each thread of the same process shares the same heap space and code's memory space.\n"
   ]
  },
  {
   "cell_type": "markdown",
   "metadata": {},
   "source": [
    "- We discuss mulitprocessing package here because it is a prefered way to bypass GIL and maximize the computational resources available on a compute node.\n",
    "- Multiprocessing is suitable for SMP (Symmertric Multiprocessing) style of programming."
   ]
  },
  {
   "cell_type": "markdown",
   "metadata": {},
   "source": [
    "# Getting started\n",
    "## The Pool Class\n",
    "- Controls a pool of workers. \n",
    "A pool of workers can be initiated by instantiating an object of Pool Class.\n",
    "\n",
    "It is usually a good practice to pin one process a CPU.\n",
    "\n",
    "Before anything, let's define work for each process. Given a list of numbers each worker will call a funtion to evaluate sqaure of a number from that list in parallel."
   ]
  },
  {
   "cell_type": "code",
   "execution_count": 1,
   "metadata": {},
   "outputs": [],
   "source": [
    "def square(x):\n",
    "    return x * x"
   ]
  },
  {
   "cell_type": "markdown",
   "metadata": {},
   "source": [
    "Now we define a pool of workers"
   ]
  },
  {
   "cell_type": "code",
   "execution_count": 2,
   "metadata": {},
   "outputs": [
    {
     "name": "stdout",
     "output_type": "stream",
     "text": [
      "64 worker available\n"
     ]
    }
   ],
   "source": [
    "import multiprocessing as mp\n",
    "\n",
    "nprocs = mp.cpu_count()\n",
    "print(\"%d worker available\" %nprocs)\n",
    "\n",
    "# let's create a pool of workers\n",
    "pool = mp.Pool(processes=nprocs)"
   ]
  },
  {
   "cell_type": "markdown",
   "metadata": {},
   "source": [
    "### The map method\n",
    "This method takes the \"work\" as argument and maps it to the process in the pool. \n",
    "Let us define this \"work\" first and then we will map it to the available processes in the pool of workers.\n",
    "\n",
    "Let's say we want squares of each number from 0 to 19 done in parallel by all the available workers in the Worker Pool instantiated above:"
   ]
  },
  {
   "cell_type": "code",
   "execution_count": 3,
   "metadata": {
    "scrolled": false
   },
   "outputs": [
    {
     "name": "stdout",
     "output_type": "stream",
     "text": [
      "squares for sequence 0 to 19 :\n",
      "[0, 1, 4, 9, 16, 25, 36, 49, 64, 81, 100, 121, 144, 169, 196, 225, 256, 289, 324, 361, 400, 441, 484, 529, 576, 625, 676, 729, 784, 841, 900, 961, 1024, 1089, 1156, 1225, 1296, 1369, 1444, 1521, 1600, 1681, 1764, 1849, 1936, 2025, 2116, 2209, 2304, 2401, 2500, 2601, 2704, 2809, 2916, 3025, 3136, 3249, 3364, 3481, 3600, 3721, 3844, 3969, 4096, 4225, 4356, 4489, 4624, 4761, 4900, 5041, 5184, 5329, 5476, 5625, 5776, 5929, 6084, 6241, 6400, 6561, 6724, 6889, 7056, 7225, 7396, 7569, 7744, 7921, 8100, 8281, 8464, 8649, 8836, 9025, 9216, 9409, 9604, 9801, 10000, 10201, 10404, 10609, 10816, 11025, 11236, 11449, 11664, 11881, 12100, 12321, 12544, 12769, 12996, 13225, 13456, 13689, 13924, 14161, 14400, 14641, 14884, 15129, 15376, 15625, 15876, 16129]\n"
     ]
    }
   ],
   "source": [
    "result = pool.map(square,range(128))\n",
    "print(\"squares for sequence 0 to 19 :\")\n",
    "print(result)\n",
    "pool.close()"
   ]
  },
  {
   "cell_type": "code",
   "execution_count": 4,
   "metadata": {},
   "outputs": [
    {
     "data": {
      "text/plain": [
       "128"
      ]
     },
     "execution_count": 4,
     "metadata": {},
     "output_type": "execute_result"
    }
   ],
   "source": [
    "len(result)"
   ]
  },
  {
   "cell_type": "markdown",
   "metadata": {},
   "source": [
    "### The starmap method\n",
    "Notice that map() method of Pool class takes a single valued argument to the mapped function. For function that takes more than one argument, the Pool class also has starmap() function. \n",
    "\n",
    "Let's say we want to create a function that evaluates power of n of a number."
   ]
  },
  {
   "cell_type": "code",
   "execution_count": 5,
   "metadata": {},
   "outputs": [],
   "source": [
    "def power_n(x,n):\n",
    "    return x ** n"
   ]
  },
  {
   "cell_type": "code",
   "execution_count": 6,
   "metadata": {},
   "outputs": [
    {
     "name": "stdout",
     "output_type": "stream",
     "text": [
      "evaluation of sequence 0^2 to 19^2 :\n",
      "[0, 1, 4, 9, 16, 25, 36, 49, 64, 81, 100, 121, 144, 169, 196, 225, 256, 289, 324, 361]\n"
     ]
    }
   ],
   "source": [
    "pool = mp.Pool(processes=nprocs)\n",
    "result = pool.starmap(power_n, [(x,2) for x in range(20)])\n",
    "print(\"evaluation of sequence 0^2 to 19^2 :\")\n",
    "print(result)\n",
    "pool.close()"
   ]
  },
  {
   "cell_type": "markdown",
   "metadata": {},
   "source": [
    "Both map() and starmap() are synchronus methods of the Pool class. \n",
    "This implies that which every worker in the pool finishes first, will wait until all other finish, before going to the next instruction to execute."
   ]
  },
  {
   "cell_type": "markdown",
   "metadata": {},
   "source": [
    "### Computing $\\pi$\n",
    "\n",
    "As an example, we can try and parallelize a simple serial code which approximates the value of Pi by the following integral.\n",
    "<h3><center>$\\pi = \\int_0^1 \\frac{4}{1 + x^2}$</center></h3>\n",
    "\n",
    "#### Serail Code"
   ]
  },
  {
   "cell_type": "code",
   "execution_count": 14,
   "metadata": {},
   "outputs": [
    {
     "name": "stdout",
     "output_type": "stream",
     "text": [
      "Pi = 3.1415926536 calculated in 0.24795 seconds\n"
     ]
    }
   ],
   "source": [
    "import time\n",
    "nsteps = int(1e6)\n",
    "dx= 1.0/nsteps\n",
    "pi = 0.0\n",
    "stime = time.time()\n",
    "for i in range(nsteps):\n",
    "    x = (i+0.5) * dx\n",
    "    pi = pi + 4.0 /(1.0 + x*x)\n",
    "stime = time.time() - stime\n",
    "pi = pi * dx\n",
    "print (\"Pi = %2.10f calculated in %2.5f seconds\" %(pi,stime))"
   ]
  },
  {
   "cell_type": "markdown",
   "metadata": {},
   "source": [
    "- The above is a compute bound code as it spends most of its time in evaulating the x and pi values for nsteps times. \n",
    "- The approximation gets better as the nsteps increase.\n",
    "Let's now attempt to see how we can make use of multiprocessing pool of workers. \n",
    "\n",
    "#### Paralell code\n",
    "- For this, we will need to divide iterations of the for loop, \"nsteps\", into sub-tasks in round-robin fashion and map them to each worker in the Pool. \n",
    "- Once every worker has finished, we can accumulate partial Pi from each and add them up. \n",
    "\n",
    "Let's first define a function to evaluate partial Pi values which will be called by all workers for their respective iterations."
   ]
  },
  {
   "cell_type": "code",
   "execution_count": 10,
   "metadata": {},
   "outputs": [],
   "source": [
    "def partial_pi(rank,nprocs,nsteps,dx):\n",
    "    partial_pi = 0.0\n",
    "    for i in range(rank,nsteps,nprocs):\n",
    "        x = (i+0.5) * dx\n",
    "        partial_pi += 4.0 /(1.0 + x*x)\n",
    "    partial_pi *= dx\n",
    "    return partial_pi"
   ]
  },
  {
   "cell_type": "markdown",
   "metadata": {},
   "source": [
    "We can divide the iterations in round robin fashion over the available processes in the pool and invoke \"starmap\" method on the Pool of workers to call paritial_pi with repective arguments."
   ]
  },
  {
   "cell_type": "code",
   "execution_count": 11,
   "metadata": {},
   "outputs": [
    {
     "name": "stdout",
     "output_type": "stream",
     "text": [
      "Pi = 3.1415926536 calculated in 0.84062 seconds\n"
     ]
    }
   ],
   "source": [
    "args = [(rank,nprocs,nsteps,dx) for rank in range(nprocs)]\n",
    "pool = mp.Pool(processes=nprocs)\n",
    "ptime=time.time()\n",
    "result = pool.starmap(partial_pi,args)\n",
    "ptime=time.time() - ptime\n",
    "pi = sum(result)\n",
    "print (\"Pi = %2.10f calculated in %2.5f seconds\" %(pi,ptime))\n",
    "pool.close()"
   ]
  },
  {
   "cell_type": "markdown",
   "metadata": {},
   "source": [
    "### Scaling "
   ]
  },
  {
   "cell_type": "markdown",
   "metadata": {},
   "source": [
    "Though the computation is faster in the parallel version of the code using multiprocessing, it is worthwhile knowing the number of workers after which there is no performance gain (Speed Up). This is called a <b>Scaling test</b>."
   ]
  },
  {
   "cell_type": "code",
   "execution_count": 15,
   "metadata": {},
   "outputs": [],
   "source": [
    "workers=list()\n",
    "compute_times=list()\n",
    "speedup=list()\n",
    "for i in range(5):\n",
    "    workers.append(2 ** i)\n",
    "    args = [(rank,workers[i],nsteps,dx) for rank in range(workers[i])]\n",
    "    pool = mp.Pool(processes=workers[i])\n",
    "    ptime=time.time()\n",
    "    result = pool.starmap(partial_pi,args)\n",
    "    ptime=time.time() - ptime\n",
    "    compute_times.append(ptime)\n",
    "    pi = sum(result)\n",
    "    speedup.append(compute_times[0]/ptime)\n",
    "    pool.close()"
   ]
  },
  {
   "cell_type": "code",
   "execution_count": 16,
   "metadata": {},
   "outputs": [
    {
     "data": {
      "image/png": "[encoded data removed]",
      "text/plain": [
       "<Figure size 432x288 with 1 Axes>"
      ]
     },
     "metadata": {
      "needs_background": "light"
     },
     "output_type": "display_data"
    }
   ],
   "source": [
    "import matplotlib.pyplot as plt\n",
    "plt.plot(workers,speedup,'ro-')\n",
    "plt.xlabel('# Workers');\n",
    "plt.ylabel('Speed Up');"
   ]
  },
  {
   "cell_type": "markdown",
   "metadata": {},
   "source": [
    "## The Process Class\n",
    "Another way to interact with multiple processes using the Multiprocessing package is to use the Process class.\n",
    "It gives more fine grain control of individual processes rather then interacting with a pool of them.\n"
   ]
  },
  {
   "cell_type": "markdown",
   "metadata": {},
   "source": [
    "Instantiating a process is calling the Process class with a target function and its arguements as a list. \n",
    "start() method starts the process by forking the parent process and join() will close or end the process.\n",
    "\n",
    "To interact with the process's input and output stream, we can make use of <b>Queue class</b> to see the result. For this let's redefine the target function, square(). \n",
    "\n",
    "Here is how we can run multiple processes in parallel."
   ]
  },
  {
   "cell_type": "code",
   "execution_count": 17,
   "metadata": {},
   "outputs": [
    {
     "name": "stdout",
     "output_type": "stream",
     "text": [
      "[25, 0, 36, 16, 4, 9, 1, 49, 64, 81, 100, 121, 144, 169, 196, 225, 256, 289, 324, 361]\n"
     ]
    }
   ],
   "source": [
    "def square(x, q):\n",
    "    q.put(x * x)\n",
    "\n",
    "qout = mp.Queue()\n",
    "processes = [mp.Process(target=square, args=(i, qout)) for i in range(20)]\n",
    "for p in processes:\n",
    "    p.start()\n",
    "\n",
    "for p in processes:\n",
    "    p.join()\n",
    "\n",
    "result = [qout.get() for p in processes]\n",
    "print(result)"
   ]
  },
  {
   "cell_type": "markdown",
   "metadata": {},
   "source": [
    "It is important to note here that the execution of these processes is asynchronus. Thus the load imbalance between the processes should be taken into account and the processes need to be fed more work when they are done with theres'. \n",
    "\n",
    "Process class is a good tool for pipelining work using a Master process to control and workers to execute a task farm."
   ]
  }
 ],
 "metadata": {
  "kernelspec": {
   "display_name": "Python 3",
   "language": "python",
   "name": "python3"
  },
  "language_info": {
   "codemirror_mode": {
    "name": "ipython",
    "version": 3
   },
   "file_extension": ".py",
   "mimetype": "text/x-python",
   "name": "python",
   "nbconvert_exporter": "python",
   "pygments_lexer": "ipython3",
   "version": "3.8.0"
  }
 },
 "nbformat": 4,
 "nbformat_minor": 2
}
